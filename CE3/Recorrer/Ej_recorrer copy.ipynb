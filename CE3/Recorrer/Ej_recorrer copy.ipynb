{
 "cells": [
  {
   "cell_type": "code",
   "execution_count": 16,
   "metadata": {},
   "outputs": [],
   "source": [
    "mapa = {\n",
    "    \"Estación\":\n",
    "    {\n",
    "        \"destinos\":\n",
    "        [(\"Parada Claro de Luna\", 'A', 6),\n",
    "                     (\"Parada Cascada Azul\", 'B', 5),\n",
    "                     (\"Parada Río Brillante\", 'C', 10)],\n",
    "\n",
    "        \"heuristica\": 17\n",
    "    },\n",
    "    \"Parada Claro de Luna\": \n",
    "    {\n",
    "        \"destinos\": [(\"Parada Ladera Soleada\", 'A', 6)],\n",
    "        \"heuristica\": 10\n",
    "    },\n",
    "    \"Parada Cascada Azul\": \n",
    "    {\n",
    "        \"destinos\": [(\"Parada Camino Silvestre\", 'B', 7),\n",
    "                     (\"Parada Ladera Soleada\", 'B', 6)],\n",
    "        \"heuristica\": 13\n",
    "    },\n",
    "    \"Parada Río Brillante\": \n",
    "    {\n",
    "        \"destinos\": [(\"Parada Camino Silvestre\", 'C', 6)],\n",
    "        \"heuristica\": 4\n",
    "    },\n",
    "    \"Parada Ladera Soleada\": \n",
    "    {\n",
    "        \"destinos\": [(\"Parada Bosque Encantado\", 'A', 6)],\n",
    "        \"heuristica\": 2\n",
    "    },\n",
    "    \"Parada Camino Silvestre\": \n",
    "    {\n",
    "        \"destinos\": [(\"Parada Bosque Encantado\", 'C', 4)],\n",
    "        \"heuristica\": 4\n",
    "    },\n",
    "    \"Parada Bosque Encantado\": \n",
    "    {\n",
    "        \"destinos\": [(\"Hospital\", 'A', 3)],\n",
    "        \"heuristica\": 2\n",
    "    },\n",
    "    \"Hospital\": \n",
    "    {\n",
    "        \"destinos\": [],\n",
    "        \"heuristica\": 0\n",
    "    }\n",
    "}\n"
   ]
  },
  {
   "cell_type": "code",
   "execution_count": 23,
   "metadata": {},
   "outputs": [
    {
     "name": "stdout",
     "output_type": "stream",
     "text": [
      "('Parada Claro de Luna', 'A', 6)\n",
      "('Parada Cascada Azul', 'B', 5)\n",
      "('Parada Río Brillante', 'C', 10)\n"
     ]
    }
   ],
   "source": [
    "h_n = mapa[\"Estación\"][\"heuristica\"]\n",
    "for hijo in mapa[\"Estación\"][\"destinos\"]:\n",
    "    print(hijo)\n",
    "    parada,estado,coste = hijo\n"
   ]
  },
  {
   "cell_type": "code",
   "execution_count": 2,
   "metadata": {},
   "outputs": [],
   "source": [
    "mapa = {\n",
    "    \"Estación\":\n",
    "    {\n",
    "        \"destinos\": [(\"Parada Claro de Luna\", 'A', 6),\n",
    "                     (\"Parada Cascada Azul\", 'B', 5),\n",
    "                     (\"Parada Río Brillante\", 'C', 10)],\n",
    "\n",
    "        \"heuristica\": 17\n",
    "    },\n",
    "    \n",
    "}\n"
   ]
  },
  {
   "cell_type": "code",
   "execution_count": 17,
   "metadata": {},
   "outputs": [
    {
     "name": "stdout",
     "output_type": "stream",
     "text": [
      "17\n",
      "El nodo padre es Estación, se expande hasta Parada Claro de Luna, A, con un coste de 6\n",
      "El nodo padre es Estación, se expande hasta Parada Cascada Azul, B, con un coste de 5\n",
      "El nodo padre es Estación, se expande hasta Parada Río Brillante, C, con un coste de 10\n"
     ]
    }
   ],
   "source": [
    "x = \"Estación\"\n",
    "\n",
    "datos = mapa[x]\n",
    "\n",
    "destinos = datos[\"destinos\"]\n",
    "h = datos[\"heuristica\"]\n",
    "print(h)\n",
    "\n",
    "for destino in destinos:\n",
    "    nombre_parada, estado, coste = destino\n",
    "\n",
    "    print(f\"El nodo padre es {x}, se expande hasta {nombre_parada}, {estado}, con un coste de {coste}\")\n",
    "\n"
   ]
  },
  {
   "cell_type": "code",
   "execution_count": 36,
   "metadata": {},
   "outputs": [],
   "source": [
    "mapa = [\n",
    "    {\n",
    "        \"ciudad\": \"Ciudad Central\",\n",
    "        \"conexiones\": \n",
    "        {\n",
    "            \"Carretera Norte\": [\n",
    "                (\"Pueblo Norteño\", \"C\", 15),\n",
    "                (\"Villa Alta\", \"B\", 25)\n",
    "            ],\n",
    "            \"Carretera Sur\": [\n",
    "                (\"Puerto Azul\", \"C\", 35),\n",
    "                (\"Playa Dorada\", \"A\", 20)\n",
    "            ]\n",
    "        }\n",
    "    },\n",
    "    {\n",
    "        \"ciudad\": \"Pueblo Norteño\",\n",
    "        \"conexiones\": {\n",
    "            \"Camino Rural\": [\n",
    "                (\"Villa Alta\", \"B\", 10),\n",
    "                (\"Montaña Escondida\", \"C\", 18)\n",
    "            ],\n",
    "            \"Sendero Bosque\": [\n",
    "                (\"Lago Cristalino\", \"A\", 12)\n",
    "            ]\n",
    "        }\n",
    "    },\n",
    "    {\n",
    "        \"ciudad\": \"Puerto Azul\",\n",
    "        \"conexiones\": {\n",
    "            \"Ruta Costera\": [\n",
    "                (\"Playa Dorada\", \"A\", 15),\n",
    "                (\"Faro del Fin\", \"C\", 30)\n",
    "            ],\n",
    "            \"Ruta Oceánica\": [\n",
    "                (\"Isla Paraíso\", \"B\", 50)\n",
    "            ]\n",
    "        }\n",
    "    },\n",
    "    {\n",
    "        \"ciudad\": \"Villa Alta\",\n",
    "        \"conexiones\": {\n",
    "            \"Paso Montañoso\": [\n",
    "                (\"Montaña Escondida\", \"C\", 20),\n",
    "                (\"Lago Cristalino\", \"A\", 14)\n",
    "            ]\n",
    "        }\n",
    "    }\n",
    "]\n"
   ]
  },
  {
   "cell_type": "code",
   "execution_count": 6,
   "metadata": {},
   "outputs": [],
   "source": [
    "mapa = \n",
    "[\n",
    "    {\n",
    "        \"ciudad\": \"Ciudad Central\",\n",
    "        \"conexiones\": \n",
    "        {\n",
    "            \"Carretera Norte\": \n",
    "            [\n",
    "                (\"Pueblo Norteño\", \"C\", 15),\n",
    "                (\"Villa Alta\", \"B\", 25)\n",
    "            ],\n",
    "\n",
    "            \"Carretera Sur\": \n",
    "            [\n",
    "                (\"Puerto Azul\", \"C\", 35),\n",
    "                (\"Playa Dorada\", \"A\", 20)\n",
    "            ]\n",
    "        }\n",
    "    }\n",
    "]"
   ]
  },
  {
   "cell_type": "code",
   "execution_count": 24,
   "metadata": {},
   "outputs": [
    {
     "name": "stdout",
     "output_type": "stream",
     "text": [
      "Ciudad Central\n"
     ]
    }
   ],
   "source": [
    "ciudad_ = mapa[0][\"ciudad\"]\n",
    "print(ciudad_)"
   ]
  },
  {
   "cell_type": "code",
   "execution_count": 68,
   "metadata": {},
   "outputs": [
    {
     "name": "stdout",
     "output_type": "stream",
     "text": [
      "Ciudad Central\n",
      "desdeCiudad Central puedes ir por Carretera Norte por el pueblo Playa Dorada\n",
      "desdeCiudad Central puedes ir por Carretera Norte por el pueblo Pueblo Norteño\n",
      "desdeCiudad Central puedes ir por Carretera Sur por el pueblo Villa Alta\n",
      "desdeCiudad Central puedes ir por Carretera Sur por el pueblo Puerto Azul\n"
     ]
    }
   ],
   "source": [
    "x = \"Ciudad Central\"\n",
    "\n",
    "for i in mapa:\n",
    "\n",
    "    if i[\"ciudad\"] == x:\n",
    "        print(i[\"ciudad\"])\n",
    "\n",
    "        for hijo in i[\"conexiones\"]:\n",
    "            #print(hijo)\n",
    "\n",
    "            for l in i[\"conexiones\"][hijo]:\n",
    "                print(f\"desde{x} puedes ir por {hijo} por el pueblo {pueblo}\")\n",
    "                pueblo,estado, coste = l\n",
    "\n"
   ]
  },
  {
   "cell_type": "code",
   "execution_count": 2,
   "metadata": {},
   "outputs": [],
   "source": [
    "mapa = [\n",
    "    {\n",
    "        \"ubicacion\": \"Entrada Principal\",\n",
    "        \"info\": \n",
    "        {\n",
    "            \"tipo\": \"Acceso\",\n",
    "            \"conexiones\": [\n",
    "                {\n",
    "                    \"ruta\": \"Sendero Norte\",\n",
    "                    \"destino\": \"Mirador Águila\",\n",
    "                    \"distancia\": 3,\n",
    "                    \"dificultad\": \"Fácil\"\n",
    "                },\n",
    "                {\n",
    "                    \"ruta\": \"Sendero Sur\",\n",
    "                    \"destino\": \"Cascada Escondida\",\n",
    "                    \"distancia\": 5,\n",
    "                    \"dificultad\": \"Media\"\n",
    "                }\n",
    "            ]\n",
    "        }\n",
    "    },\n",
    "    {\n",
    "        \"ubicacion\": \"Mirador Águila\",\n",
    "        \"info\": {\n",
    "            \"tipo\": \"Mirador\",\n",
    "            \"conexiones\": [\n",
    "                {\n",
    "                    \"ruta\": \"Sendero Este\",\n",
    "                    \"destino\": \"Lago Cristalino\",\n",
    "                    \"distancia\": 4,\n",
    "                    \"dificultad\": \"Media\"\n",
    "                }\n",
    "            ]\n",
    "        }\n",
    "    },\n",
    "    {\n",
    "        \"ubicacion\": \"Cascada Escondida\",\n",
    "        \"info\": {\n",
    "            \"tipo\": \"Atracción Natural\",\n",
    "            \"conexiones\": [\n",
    "                {\n",
    "                    \"ruta\": \"Sendero Profundo\",\n",
    "                    \"destino\": \"Cueva Misteriosa\",\n",
    "                    \"distancia\": 6,\n",
    "                    \"dificultad\": \"Alta\"\n",
    "                }\n",
    "            ]\n",
    "        }\n",
    "    },\n",
    "    {\n",
    "        \"ubicacion\": \"Lago Cristalino\",\n",
    "        \"info\": {\n",
    "            \"tipo\": \"Lago\",\n",
    "            \"conexiones\": [\n",
    "                {\n",
    "                    \"ruta\": \"Sendero Final\",\n",
    "                    \"destino\": \"Cabaña del Guardabosques\",\n",
    "                    \"distancia\": 3,\n",
    "                    \"dificultad\": \"Fácil\"\n",
    "                }\n",
    "            ]\n",
    "        }\n",
    "    },\n",
    "    {\n",
    "        \"ubicacion\": \"Cueva Misteriosa\",\n",
    "        \"info\": {\n",
    "            \"tipo\": \"Cueva\",\n",
    "            \"conexiones\": []\n",
    "        }\n",
    "    },\n",
    "    {\n",
    "        \"ubicacion\": \"Cabaña del Guardabosques\",\n",
    "        \"info\": {\n",
    "            \"tipo\": \"Punto de Descanso\",\n",
    "            \"conexiones\": []\n",
    "        }\n",
    "    }\n",
    "]\n"
   ]
  },
  {
   "cell_type": "code",
   "execution_count": 5,
   "metadata": {},
   "outputs": [
    {
     "name": "stdout",
     "output_type": "stream",
     "text": [
      "desde Entrada Principal puedes ir por Mirador Águila por la ruta Sendero Norte con un coste de 3\n",
      "desde Entrada Principal puedes ir por Cascada Escondida por la ruta Sendero Sur con un coste de 5\n"
     ]
    }
   ],
   "source": [
    "x = \"Entrada Principal\"\n",
    "\n",
    "for i in mapa:\n",
    "    if i[\"ubicacion\"] == x:\n",
    "        for hijo in i[\"info\"][\"conexiones\"]:\n",
    "            #print(hijo)\n",
    "            ruta = hijo[\"ruta\"]\n",
    "            destino = hijo[\"destino\"]\n",
    "            coste = hijo[\"distancia\"]\n",
    "\n",
    "            print(f\"desde {x} puedes ir por {destino} por la ruta {ruta} con un coste de {coste}\")\n",
    "\n"
   ]
  },
  {
   "cell_type": "code",
   "execution_count": 11,
   "metadata": {},
   "outputs": [
    {
     "data": {
      "text/plain": [
       "2"
      ]
     },
     "execution_count": 11,
     "metadata": {},
     "output_type": "execute_result"
    }
   ],
   "source": [
    "dic = {'a': 1, 'b': 2, 'c': 3}\n",
    "\n",
    "i = 'b'\n",
    "dic[i]\n"
   ]
  },
  {
   "cell_type": "code",
   "execution_count": 15,
   "metadata": {},
   "outputs": [
    {
     "data": {
      "text/plain": [
       "400"
      ]
     },
     "execution_count": 15,
     "metadata": {},
     "output_type": "execute_result"
    }
   ],
   "source": [
    "tup = (100, 200, 300, 400, 500)\n",
    "\n",
    "\n",
    "i = 3\n",
    "tup[i]"
   ]
  },
  {
   "cell_type": "code",
   "execution_count": null,
   "metadata": {},
   "outputs": [],
   "source": [
    "mapa = {\n",
    "    \"Metro\": \n",
    "    {\n",
    "        \"Estaciones\": \n",
    "        {\n",
    "            \"Estación Central\": \n",
    "            {\n",
    "                \"Líneas\": [\"Línea 1\", \"Línea 2\"],\n",
    "                \"Conexiones\": \n",
    "                [\n",
    "                    (\"Estación Norte\", \"Línea 1\", 5),\n",
    "                    (\"Estación Sur\", \"Línea 2\", 8)\n",
    "                ]\n",
    "            },\n",
    "            \"Estación Norte\": {\n",
    "                \"Líneas\": [\"Línea 1\"],\n",
    "                \"Conexiones\": [\n",
    "                    (\"Estación Central\", \"Línea 1\", 5),\n",
    "                    (\"Estación Este\", \"Línea 1\", 7)\n",
    "                ]\n",
    "            },\n",
    "            \"Estación Sur\": {\n",
    "                \"Líneas\": [\"Línea 2\"],\n",
    "                \"Conexiones\": [\n",
    "                    (\"Estación Central\", \"Línea 2\", 8)\n",
    "                ]\n",
    "            },\n",
    "            \"Estación Este\": {\n",
    "                \"Líneas\": [\"Línea 1\"],\n",
    "                \"Conexiones\": [\n",
    "                    (\"Estación Norte\", \"Línea 1\", 7)\n",
    "                ]\n",
    "            }\n",
    "        }\n",
    "    },\n",
    "    \"Autobuses\": {\n",
    "        \"Paradas\": {\n",
    "            \"Parada A\": {\n",
    "                \"Rutas\": [\"Ruta 101\"],\n",
    "                \"Conexiones\": [\n",
    "                    (\"Parada B\", \"Ruta 101\", 10),\n",
    "                    (\"Parada C\", \"Ruta 101\", 12)\n",
    "                ]\n",
    "            },\n",
    "            \"Parada B\": {\n",
    "                \"Rutas\": [\"Ruta 101\", \"Ruta 102\"],\n",
    "                \"Conexiones\": [\n",
    "                    (\"Parada A\", \"Ruta 101\", 10),\n",
    "                    (\"Parada C\", \"Ruta 102\", 6)\n",
    "                ]\n",
    "            },\n",
    "            \"Parada C\": {\n",
    "                \"Rutas\": [\"Ruta 101\", \"Ruta 102\"],\n",
    "                \"Conexiones\": [\n",
    "                    (\"Parada A\", \"Ruta 101\", 12),\n",
    "                    (\"Parada B\", \"Ruta 102\", 6)\n",
    "                ]\n",
    "            }\n",
    "        }\n",
    "    }\n",
    "}\n"
   ]
  },
  {
   "cell_type": "code",
   "execution_count": null,
   "metadata": {},
   "outputs": [],
   "source": [
    "mapa = {\n",
    "    \"Metro\": \n",
    "    {\n",
    "        \"Estaciones\": \n",
    "        {\n",
    "            \"Estación Central\": \n",
    "            {\n",
    "                \"Líneas\": [\"Línea 1\", \"Línea 2\"],\n",
    "                \"Conexiones\": \n",
    "                [\n",
    "                    (\"Estación Norte\", \"Línea 1\", 5),\n",
    "                    (\"Estación Sur\", \"Línea 2\", 8)\n",
    "                ]\n",
    "            },\n",
    "            \"Estación Norte\": {\n",
    "                \"Líneas\": [\"Línea 1\"],\n",
    "                \"Conexiones\": [\n",
    "                    (\"Estación Central\", \"Línea 1\", 5),\n",
    "                    (\"Estación Este\", \"Línea 1\", 7)\n",
    "                ]\n",
    "            },\n",
    "            \"Estación Sur\": {\n",
    "                \"Líneas\": [\"Línea 2\"],\n",
    "                \"Conexiones\": [\n",
    "                    (\"Estación Central\", \"Línea 2\", 8)\n",
    "                ]\n",
    "            },\n",
    "            \"Estación Este\": {\n",
    "                \"Líneas\": [\"Línea 1\"],\n",
    "                \"Conexiones\": [\n",
    "                    (\"Estación Norte\", \"Línea 1\", 7)\n",
    "                ]\n",
    "            }\n",
    "        }\n",
    "    },\n",
    "}"
   ]
  },
  {
   "cell_type": "code",
   "execution_count": 14,
   "metadata": {},
   "outputs": [
    {
     "name": "stdout",
     "output_type": "stream",
     "text": [
      "Estación Norte Línea 1 5\n",
      "Estación Sur Línea 2 8\n"
     ]
    }
   ],
   "source": [
    "origen = mapa[\"Metro\"][\"Estaciones\"][\"Estación Central\"][\"Conexiones\"]\n",
    "\n",
    "for i in origen:\n",
    "    estacion, linea, coste = i\n",
    "    print(estacion, linea, coste)\n"
   ]
  },
  {
   "cell_type": "code",
   "execution_count": 24,
   "metadata": {},
   "outputs": [],
   "source": [
    "mapa = {\n",
    "    'S': {\n",
    "        'heuristica': 17,\n",
    "        'conexiones': {\n",
    "            'A': {'costo': 6, 'heuristica': 10},\n",
    "            'B': {'costo': 5, 'heuristica': 13},\n",
    "            'C': {'costo': 10, 'heuristica': 4}\n",
    "        }\n",
    "    },\n",
    "    'A': {\n",
    "        'heuristica': 10,\n",
    "        'conexiones': {\n",
    "            'E': {'costo': 6, 'heuristica': 4}\n",
    "        }\n",
    "    },\n",
    "    'B': {\n",
    "        'heuristica': 13,\n",
    "        'conexiones': {\n",
    "            'E': {'costo': 6, 'heuristica': 4},\n",
    "            'D': {'costo': 7, 'heuristica': 2}\n",
    "        }\n",
    "    },\n",
    "    'C': {\n",
    "        'heuristica': 4,\n",
    "        'conexiones': {\n",
    "            'D': {'costo': 6, 'heuristica': 2}\n",
    "        }\n",
    "    },\n",
    "    'D': {\n",
    "        'heuristica': 2,\n",
    "        'conexiones': {\n",
    "            'F': {'costo': 6, 'heuristica': 1}\n",
    "        }\n",
    "    },\n",
    "    'E': {\n",
    "        'heuristica': 4,\n",
    "        'conexiones': {\n",
    "            'F': {'costo': 4, 'heuristica': 1}\n",
    "        }\n",
    "    },\n",
    "    'F': {\n",
    "        'heuristica': 1,\n",
    "        'conexiones': {\n",
    "            'Objetivo': {'costo': 3, 'heuristica': 0}\n",
    "        }\n",
    "    },\n",
    "    'Objetivo': {\n",
    "        'heuristica': 0,\n",
    "        'conexiones': {}\n",
    "    }\n",
    "}"
   ]
  },
  {
   "cell_type": "code",
   "execution_count": 25,
   "metadata": {},
   "outputs": [
    {
     "name": "stdout",
     "output_type": "stream",
     "text": [
      "A\n",
      "B\n",
      "C\n"
     ]
    }
   ],
   "source": [
    "x = 'S'\n",
    "for hijo in mapa[x][\"conexiones\"]:\n",
    "    print(hijo)\n",
    "    coste = mapa[x][\"conexiones\"][hijo][\"costo\"]\n",
    "    heuristica = mapa[x][\"conexiones\"][hijo][\"heuristica\"]\n"
   ]
  },
  {
   "cell_type": "code",
   "execution_count": 2,
   "metadata": {},
   "outputs": [],
   "source": [
    "mapa = {\n",
    "    \"start\":\n",
    "      [ (\"1\", 91), \n",
    "                (\"2\", 97),\n",
    "                (\"heuristic\", 123)] ,\n",
    "\n",
    "\n",
    "\n",
    "\n",
    "\n",
    "    \"1\": [(\"2\", 85), (\"4\", 142), (\"heuristic\", 123)],\n",
    "    \"2\": [(\"3\", 92), (\"5\", 142), (\"heuristic\", 123)],\n",
    "    \"3\": [(\"6\", 92), (\"8\", 87), (\"heuristic\", 123)],\n",
    "    \"4\": [(\"7\", 67), (\"6\", 98), (\"heuristic\", 123)],\n",
    "    \"5\": [(\"3\", 142), (\"8\", 87), (\"9\", 99), (\"heuristic\", 123)],\n",
    "    \"6\": [(\"fin\", 85), (\"heuristic\", 123)],\n",
    "    \"7\": [(\"6\", 119), (\"heuristic\", 123)],\n",
    "    \"8\": [(\"6\", 100), (\"9\", 82), (\"heuristic\", 123)],\n",
    "    \"9\": [(\"fin\", 92), (\"heuristic\", 123)],\n",
    "    \"fin\": [(\"heuristic\", 0)]\n",
    "}"
   ]
  },
  {
   "cell_type": "code",
   "execution_count": 6,
   "metadata": {},
   "outputs": [
    {
     "name": "stdout",
     "output_type": "stream",
     "text": [
      "123\n"
     ]
    }
   ],
   "source": [
    "# Dicionario, Array, tupla\n",
    "# Primero nombre\n",
    "# [] elemento que se quiere coger\n",
    "# dividir el elemento escogido entre los valore que hay en la tupla\n",
    "\n",
    "x = \"start\"\n",
    "n,hn = mapa[\"start\"][-1]\n",
    "print(hn)"
   ]
  },
  {
   "cell_type": "markdown",
   "metadata": {},
   "source": [
    "## !!!!!!! IMPORTANTE:\n",
    "Si un array contiene una tupla, se pueden juntos para obtener los dos valores de una sola vez\n",
    "Para obtener el valor específico de un array hay que poner"
   ]
  },
  {
   "cell_type": "code",
   "execution_count": 43,
   "metadata": {},
   "outputs": [
    {
     "name": "stdout",
     "output_type": "stream",
     "text": [
      "De start a 1 por un coste 91 + heurística 123 \n",
      "De start a 2 por un coste 97 + heurística 123 \n"
     ]
    }
   ],
   "source": [
    "x = 'start'\n",
    "heuristica = -1\n",
    "for hijo in mapa[x][:-1]:\n",
    "    estado,coste = hijo\n",
    "    if len(hijo) == len(mapa[x]):\n",
    "        break\n",
    "    hn = mapa[x][-1][-1]\n",
    "    print(f\"De {x} a {estado} por un coste {coste} + heurística {hn} \")"
   ]
  },
  {
   "cell_type": "code",
   "execution_count": 44,
   "metadata": {},
   "outputs": [
    {
     "name": "stdout",
     "output_type": "stream",
     "text": [
      "123\n"
     ]
    }
   ],
   "source": [
    "hn = mapa[x][-1][-1]\n",
    "print(hn)\n"
   ]
  },
  {
   "cell_type": "code",
   "execution_count": 7,
   "metadata": {},
   "outputs": [],
   "source": [
    "mapa = [\n",
    "    {\"origen\": \"inicio\", \"destinos\": [(\"A\", 50, 100), (\"B\", 60, 90)]},\n",
    "\n",
    "    {\"origen\": \"A\", \"destinos\": [(\"C\", 40, 80), (\"D\", 50, 70)]},\n",
    "    {\"origen\": \"B\", \"destinos\": [(\"D\", 30, 60), (\"E\", 50, 50)]},\n",
    "    {\"origen\": \"C\", \"destinos\": [(\"F\", 20, 40), (\"G\", 30, 30)]},\n",
    "    {\"origen\": \"D\", \"destinos\": [(\"F\", 25, 50), (\"H\", 40, 20), (\"meta\", 20, 0)]},\n",
    "    {\"origen\": \"E\", \"destinos\": [(\"H\", 30, 10), (\"I\", 40, 20)]},\n",
    "    {\"origen\": \"F\", \"destinos\": [(\"J\", 15, 10)]},\n",
    "    {\"origen\": \"G\", \"destinos\": [(\"J\", 20, 5)]},\n",
    "    {\"origen\": \"H\", \"destinos\": [(\"J\", 10, 5), (\"K\", 15, 2)]},\n",
    "    {\"origen\": \"I\", \"destinos\": [(\"K\", 20, 1)]},\n",
    "    {\"origen\": \"J\", \"destinos\": [(\"meta\", 10, 0)]},\n",
    "    {\"origen\": \"K\", \"destinos\": [(\"meta\", 5, 0)]},\n",
    "]"
   ]
  },
  {
   "cell_type": "code",
   "execution_count": 16,
   "metadata": {},
   "outputs": [
    {
     "name": "stdout",
     "output_type": "stream",
     "text": [
      "{'origen': 'inicio', 'destinos': [('A', 50, 100), ('B', 60, 90)]}\n",
      "origen\n",
      "destinos\n",
      "{'origen': 'A', 'destinos': [('C', 40, 80), ('D', 50, 70)]}\n",
      "origen\n",
      "destinos\n",
      "{'origen': 'B', 'destinos': [('D', 30, 60), ('E', 50, 50)]}\n",
      "origen\n",
      "destinos\n",
      "{'origen': 'C', 'destinos': [('F', 20, 40), ('G', 30, 30)]}\n",
      "origen\n",
      "destinos\n",
      "{'origen': 'D', 'destinos': [('F', 25, 50), ('H', 40, 20), ('meta', 20, 0)]}\n",
      "origen\n",
      "destinos\n",
      "{'origen': 'E', 'destinos': [('H', 30, 10), ('I', 40, 20)]}\n",
      "origen\n",
      "destinos\n",
      "{'origen': 'F', 'destinos': [('J', 15, 10)]}\n",
      "origen\n",
      "destinos\n",
      "{'origen': 'G', 'destinos': [('J', 20, 5)]}\n",
      "origen\n",
      "destinos\n",
      "{'origen': 'H', 'destinos': [('J', 10, 5), ('K', 15, 2)]}\n",
      "origen\n",
      "destinos\n",
      "{'origen': 'I', 'destinos': [('K', 20, 1)]}\n",
      "origen\n",
      "destinos\n",
      "{'origen': 'J', 'destinos': [('meta', 10, 0)]}\n",
      "origen\n",
      "destinos\n",
      "{'origen': 'K', 'destinos': [('meta', 5, 0)]}\n",
      "origen\n",
      "destinos\n"
     ]
    }
   ],
   "source": [
    "y = \"A\"\n",
    "for x in mapa:\n",
    "\n",
    "    print(x)\n",
    "\n",
    "    for elemento in x:\n",
    "        print(elemento)\n"
   ]
  },
  {
   "cell_type": "code",
   "execution_count": 8,
   "metadata": {},
   "outputs": [
    {
     "name": "stdout",
     "output_type": "stream",
     "text": [
      "A\n"
     ]
    }
   ],
   "source": [
    "x = mapa[1][\"origen\"]\n",
    "print(x)\n",
    "\n",
    "for x in mapa:\n",
    "\n",
    "    if mapa[x][\"or\"]"
   ]
  },
  {
   "cell_type": "code",
   "execution_count": 1,
   "metadata": {},
   "outputs": [],
   "source": [
    "mapa = {\n",
    "    \"start\": {\n",
    "        \"connections\": [(\"1\", 91), (\"2\", 97)],\n",
    "        \"heuristic\": 123\n",
    "    },\n",
    "    \"1\": {\n",
    "        \"connections\": [\n",
    "            {\"node\": \"2\", \"cost\": 85},\n",
    "            {\"node\": \"4\", \"cost\": 142}\n",
    "        ],\n",
    "        \"heuristic\": 115\n",
    "    },\n",
    "    \"2\": {\n",
    "        \"connections\": [\n",
    "            {\"node\": \"3\", \"cost\": 92},\n",
    "            {\"node\": \"5\", \"cost\": 142}\n",
    "        ],\n",
    "        \"heuristic\": 110\n",
    "    },\n",
    "    \"3\": [\n",
    "        (\"6\", 92),\n",
    "        (\"8\", 87),\n",
    "        {\"heuristic\": 105}\n",
    "    ],\n",
    "    \"4\": [\n",
    "        {\"connection\": \"7\", \"cost\": 67},\n",
    "        {\"connection\": \"6\", \"cost\": 98},\n",
    "        {\"heuristic\": 100}\n",
    "    ],\n",
    "    \"5\": {\n",
    "        \"edges\": [\n",
    "            {\"to\": \"3\", \"weight\": 142},\n",
    "            {\"to\": \"8\", \"weight\": 87},\n",
    "            {\"to\": \"9\", \"weight\": 99}\n",
    "        ],\n",
    "        \"heuristic\": 98\n",
    "    },\n",
    "    \"6\": {\n",
    "        \"paths\": [(\"fin\", 85)],\n",
    "        \"heuristic\": 90\n",
    "    },\n",
    "    \"7\": {\n",
    "        \"links\": [(\"6\", 119)],\n",
    "        \"heuristic\": 80\n",
    "    },\n",
    "    \"8\": [\n",
    "        (\"6\", 100),\n",
    "        (\"9\", 82),\n",
    "        {\"heuristic\": 75}\n",
    "    ],\n",
    "    \"9\": {\n",
    "        \"routes\": [(\"fin\", 92)],\n",
    "        \"heuristic\": 50\n",
    "    },\n",
    "    \"fin\": {\n",
    "        \"heuristic\": 0\n",
    "    }\n",
    "}"
   ]
  },
  {
   "cell_type": "code",
   "execution_count": 4,
   "metadata": {},
   "outputs": [
    {
     "name": "stdout",
     "output_type": "stream",
     "text": [
      "Desde start a 1 por 91\n",
      "Coste fn: 214\n",
      "Desde start a 2 por 97\n",
      "Coste fn: 220\n"
     ]
    }
   ],
   "source": [
    "x = \"start\"\n",
    "hn = mapa[x][\"heuristic\"]\n",
    "\n",
    "sucesores = mapa[x][\"connections\"]\n",
    "\n",
    "for sucesor in sucesores:\n",
    "    estado,coste = sucesor\n",
    "    print(f\"Desde {x} a {estado} por {coste}\")\n",
    "    print(f\"Coste fn: {coste + hn}\")"
   ]
  },
  {
   "cell_type": "code",
   "execution_count": null,
   "metadata": {},
   "outputs": [],
   "source": []
  }
 ],
 "metadata": {
  "kernelspec": {
   "display_name": "base",
   "language": "python",
   "name": "python3"
  },
  "language_info": {
   "codemirror_mode": {
    "name": "ipython",
    "version": 3
   },
   "file_extension": ".py",
   "mimetype": "text/x-python",
   "name": "python",
   "nbconvert_exporter": "python",
   "pygments_lexer": "ipython3",
   "version": "3.12.3"
  }
 },
 "nbformat": 4,
 "nbformat_minor": 2
}
